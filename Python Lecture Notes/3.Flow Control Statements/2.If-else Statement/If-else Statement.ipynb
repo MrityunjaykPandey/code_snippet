{
 "cells": [
  {
   "cell_type": "markdown",
   "metadata": {},
   "source": [
    "# FlowControl - If-else Statement"
   ]
  },
  {
   "cell_type": "markdown",
   "metadata": {},
   "source": [
    "**Syntax:**\n",
    "- if(condition):\n",
    "    - Statment1\n",
    "- else:\n",
    "  - Statment2\n"
   ]
  },
  {
   "cell_type": "code",
   "execution_count": 1,
   "metadata": {},
   "outputs": [
    {
     "name": "stdout",
     "output_type": "stream",
     "text": [
      "Username : Mrityunjay Kumar\n",
      "Enter your password : 3333\n",
      "Wrong password\n"
     ]
    }
   ],
   "source": [
    "#Program on If-else Statement.    CASE1\n",
    "\n",
    "print(\"Username : Mrityunjay Kumar\")\n",
    "password=input(\"Enter your password : \")\n",
    "\n",
    "if password.lower()=='anshuman':\n",
    "    print(\"Access granted.\\nHi \"+ password+\",Welcome to the Python Programing.\")\n",
    "else:\n",
    "    print(\"Wrong password\")\n"
   ]
  },
  {
   "cell_type": "code",
   "execution_count": 2,
   "metadata": {},
   "outputs": [
    {
     "name": "stdout",
     "output_type": "stream",
     "text": [
      "Username : Mrityunjay Kumar\n",
      "Enter your password : ANSHUMAN\n",
      "Access granted.\n",
      "Hi ANSHUMAN,Welcome to the Python Programing.\n"
     ]
    }
   ],
   "source": [
    "#Program on If-else Statement.    CASE2\n",
    "\n",
    "print(\"Username : Mrityunjay Kumar\")\n",
    "password=input(\"Enter your password : \")\n",
    "\n",
    "if password.lower()=='anshuman':\n",
    "    print(\"Access granted.\\nHi \"+ password+\",Welcome to the Python Programing.\")\n",
    "else:\n",
    "    print(\"Wrong password\")\n"
   ]
  },
  {
   "cell_type": "markdown",
   "metadata": {},
   "source": [
    "NOTE that password is lowercase anshuman and i had entered UPPERCASE ANSHUMAN"
   ]
  }
 ],
 "metadata": {
  "kernelspec": {
   "display_name": "Python 3 (ipykernel)",
   "language": "python",
   "name": "python3"
  },
  "language_info": {
   "codemirror_mode": {
    "name": "ipython",
    "version": 3
   },
   "file_extension": ".py",
   "mimetype": "text/x-python",
   "name": "python",
   "nbconvert_exporter": "python",
   "pygments_lexer": "ipython3",
   "version": "3.9.13"
  }
 },
 "nbformat": 4,
 "nbformat_minor": 4
}
