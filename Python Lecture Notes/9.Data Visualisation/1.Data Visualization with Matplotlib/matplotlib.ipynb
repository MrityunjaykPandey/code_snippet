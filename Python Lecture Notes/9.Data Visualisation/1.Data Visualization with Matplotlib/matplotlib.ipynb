{
 "cells": [
  {
   "cell_type": "code",
   "execution_count": 1,
   "id": "f7d4eea2",
   "metadata": {},
   "outputs": [],
   "source": [
    "import numpy as np\n",
    "import pandas as pd\n",
    "import matplotlib.pyplot as plt"
   ]
  },
  {
   "cell_type": "markdown",
   "id": "bfff9105",
   "metadata": {},
   "source": [
    "# Line Chart"
   ]
  },
  {
   "cell_type": "code",
   "execution_count": 2,
   "id": "1d7e75f0",
   "metadata": {},
   "outputs": [
    {
     "data": {
      "image/png": "[encoded data removed]",
      "text/plain": [
       "<Figure size 640x480 with 1 Axes>"
      ]
     },
     "metadata": {},
     "output_type": "display_data"
    }
   ],
   "source": [
    "x = np.array([1,2,3,4,5])\n",
    "y=x\n",
    "plt.plot(x,y)\n",
    "plt.xlabel(\"X axis\")\n",
    "plt.ylabel(\"Y axis\")\n",
    "plt.title(\"X axis vs Y axis\")\n",
    "plt.grid()\n",
    "plt.show()"
   ]
  },
  {
   "cell_type": "code",
   "execution_count": null,
   "id": "3ea66573",
   "metadata": {},
   "outputs": [],
   "source": [
    "x = np.array([1,2,3,4,5,6,7])\n",
    "y = np.array([1,2,3,2,5,6,7])\n",
    "\n",
    "plt.plot(x,y)\n",
    "plt.xlabel(\"no of year\")\n",
    "plt.ylabel(\"growth in company\")\n",
    "plt.title(\"growth w.r.s.t year\")\n",
    "plt.grid(True)\n",
    "plt.show()"
   ]
  },
  {
   "cell_type": "code",
   "execution_count": null,
   "id": "92250e22",
   "metadata": {},
   "outputs": [],
   "source": [
    "x = np.arange(1,10,0.1)\n",
    "y = np.tan(x)\n",
    "\n",
    "plt.plot(x,y)\n",
    "plt.title(\"Sine Wave\")\n",
    "plt.grid(True)\n",
    "plt.show()"
   ]
  },
  {
   "cell_type": "code",
   "execution_count": null,
   "id": "e481fa6f",
   "metadata": {},
   "outputs": [],
   "source": [
    "x = np.array([600, 800, 1200, 2200])\n",
    "y = np.array([15, 20, 22, 32])\n",
    "\n",
    "plt.plot(x,y)\n",
    "plt.xlabel(\"Area in sq ft\")\n",
    "plt.ylabel(\"Price in Lakhs\")\n",
    "plt.title(\"Area w.r.t price\")\n",
    "plt.grid(True)\n",
    "plt.show()"
   ]
  },
  {
   "cell_type": "code",
   "execution_count": null,
   "id": "a5a9cd5d",
   "metadata": {},
   "outputs": [],
   "source": [
    "x = np.array([600, 800, 1200, 2200])\n",
    "y = np.array([15, 20, 22, 32])\n",
    "\n",
    "plt.plot(x,y)\n",
    "plt.xlabel(\"Area in sq ft\")\n",
    "plt.ylabel(\"Price in Lakhs\")\n",
    "plt.title(\"Area w.r.t price\")\n",
    "\n",
    "plt.xlim(400, 3000)\n",
    "plt.ylim(10,50)\n",
    "\n",
    "plt.grid(True)\n",
    "plt.show()"
   ]
  },
  {
   "cell_type": "code",
   "execution_count": null,
   "id": "8d9d40b1",
   "metadata": {},
   "outputs": [],
   "source": [
    "x = np.arange(0,10, 0.1)\n",
    "y = np.sqrt(x)\n",
    "y1 = np.log(x)\n",
    "\n",
    "plt.plot(x,y, color=\"red\", label=\"sqrt\")\n",
    "plt.plot(x,y1, color=\"green\", label=\"log\")\n",
    "\n",
    "plt.grid(True)\n",
    "plt.legend()\n",
    "plt.show()"
   ]
  },
  {
   "cell_type": "markdown",
   "id": "a0040648",
   "metadata": {},
   "source": [
    "# bar chart"
   ]
  },
  {
   "cell_type": "code",
   "execution_count": null,
   "id": "f66933ce",
   "metadata": {},
   "outputs": [],
   "source": [
    "x = [1,2,3,4,5,6,7]\n",
    "y = [10,3,5,9,8,1,3]\n",
    "\n",
    "plt.bar(x,y)\n",
    "plt.xlabel(\"X axis\")\n",
    "plt.ylabel(\"Y axis\")\n",
    "plt.title(\"Title\")\n",
    "plt.grid(True)\n",
    "plt.show()"
   ]
  },
  {
   "cell_type": "code",
   "execution_count": null,
   "id": "2414554a",
   "metadata": {},
   "outputs": [],
   "source": [
    "idn= []\n",
    "p = [32,35,32,21,54]\n",
    "\n",
    "for i in range(len(p)):\n",
    "    idn.append(i)\n",
    "    \n",
    "idn\n",
    "\n",
    "\n",
    "[i for i in range(len(p))]"
   ]
  },
  {
   "cell_type": "code",
   "execution_count": null,
   "id": "d2c6b3ec",
   "metadata": {},
   "outputs": [],
   "source": [
    "population = [23,32,43,23,12,43,65,56,43,23,34,56,34,52,53,52,21,43,56,67,43,32,45]\n",
    "ids = [i for i in range(len(population))]\n",
    "\n",
    "plt.bar(ids, population)\n",
    "plt.xlabel(\"x axis\")\n",
    "plt.ylabel(\"y aixs\")\n",
    "plt.title(\"Title\")\n",
    "plt.grid(True)\n",
    "plt.show()"
   ]
  },
  {
   "cell_type": "code",
   "execution_count": null,
   "id": "b8c68bea",
   "metadata": {},
   "outputs": [],
   "source": [
    "plt.hist(population)\n",
    "plt.xlabel(\"x axis\")\n",
    "plt.ylabel(\"y axis\")\n",
    "plt.title(\"Title\")\n",
    "plt.grid(True)\n",
    "plt.show()"
   ]
  },
  {
   "cell_type": "code",
   "execution_count": null,
   "id": "d4ccadcd",
   "metadata": {},
   "outputs": [],
   "source": [
    "bins = [5,10,15,20,25,30,35,40,45,50,55,60,65,70,75,80]\n",
    "plt.hist(population, bins)\n",
    "plt.xlabel(\"x axis\")\n",
    "plt.ylabel(\"y axis\")\n",
    "plt.title(\"Title\")\n",
    "plt.grid(True)\n",
    "plt.show()"
   ]
  },
  {
   "cell_type": "code",
   "execution_count": null,
   "id": "c1083da0",
   "metadata": {},
   "outputs": [],
   "source": [
    "bins = [10, 30, 50, 70]\n",
    "plt.hist(population, bins)\n",
    "plt.xlabel(\"x axis\")\n",
    "plt.ylabel(\"y axis\")\n",
    "plt.title(\"Title\")\n",
    "plt.grid(True)\n",
    "plt.show()"
   ]
  },
  {
   "cell_type": "code",
   "execution_count": null,
   "id": "f6aec550",
   "metadata": {},
   "outputs": [],
   "source": [
    "x = np.array([1,2,3,4,5,6,7,8,9,10])\n",
    "y = np.array([2,4,5,4,2,1,2,4,6,7])\n",
    "\n",
    "plt.scatter(x,y)\n",
    "plt.xlabel(\"x axis\")\n",
    "plt.ylabel(\"y axis\")\n",
    "plt.title(\"title\")\n",
    "plt.grid(True)\n",
    "plt.show()"
   ]
  },
  {
   "cell_type": "code",
   "execution_count": null,
   "id": "50d776e5",
   "metadata": {},
   "outputs": [],
   "source": [
    "x = np.array([1,2,3,4,5,6,7,8,9,10])\n",
    "y = np.array([2,4,5,4,2,1,2,4,6,7])\n",
    "\n",
    "plt.scatter(x,y, color=\"red\", marker=\".\", s=300)\n",
    "plt.xlabel(\"x axis\")\n",
    "plt.ylabel(\"y axis\")\n",
    "plt.title(\"title\")\n",
    "plt.grid(True)\n",
    "plt.show()"
   ]
  },
  {
   "cell_type": "code",
   "execution_count": null,
   "id": "57aea429",
   "metadata": {},
   "outputs": [],
   "source": [
    "x = np.array([1,2,3,4,5,6,7,8,9,10])\n",
    "y = np.array([2,4,5,4,2,1,2,4,6,7])\n",
    "\n",
    "plt.scatter(x,y, color=\"red\", marker=\"s\")\n",
    "plt.xlabel(\"x axis\")\n",
    "plt.ylabel(\"y axis\")\n",
    "plt.title(\"title\")\n",
    "plt.grid(True)\n",
    "plt.show()"
   ]
  },
  {
   "cell_type": "code",
   "execution_count": null,
   "id": "f2dbf61e",
   "metadata": {},
   "outputs": [],
   "source": [
    "x = [7, 12, 2, 3] #24hrs\n",
    "act= [\"sleeping\", \"working\", \"workout\", \"eating\"]\n",
    "\n",
    "plt.pie(x, labels=act,\n",
    "       startangle=45,\n",
    "       explode=[0.0, 0.0, 0.2,0.0],\n",
    "       shadow=True,\n",
    "       autopct=\"%1.3f%%\")\n",
    "plt.show()"
   ]
  },
  {
   "cell_type": "code",
   "execution_count": null,
   "id": "99471cb2",
   "metadata": {},
   "outputs": [],
   "source": []
  }
 ],
 "metadata": {
  "kernelspec": {
   "display_name": "Python 3 (ipykernel)",
   "language": "python",
   "name": "python3"
  },
  "language_info": {
   "codemirror_mode": {
    "name": "ipython",
    "version": 3
   },
   "file_extension": ".py",
   "mimetype": "text/x-python",
   "name": "python",
   "nbconvert_exporter": "python",
   "pygments_lexer": "ipython3",
   "version": "3.9.13"
  }
 },
 "nbformat": 4,
 "nbformat_minor": 5
}
