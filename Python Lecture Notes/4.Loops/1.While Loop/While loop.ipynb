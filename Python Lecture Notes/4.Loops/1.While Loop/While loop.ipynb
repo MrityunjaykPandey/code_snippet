{
 "cells": [
  {
   "cell_type": "markdown",
   "metadata": {},
   "source": [
    "# While Loop"
   ]
  },
  {
   "cell_type": "markdown",
   "metadata": {},
   "source": [
    "**Syntax:**\n",
    "- while(condition):\n",
    "  - Statements\n"
   ]
  },
  {
   "cell_type": "code",
   "execution_count": 1,
   "metadata": {},
   "outputs": [
    {
     "name": "stdout",
     "output_type": "stream",
     "text": [
      "1\n",
      "2\n",
      "3\n",
      "4\n",
      "5\n",
      "6\n",
      "7\n",
      "8\n",
      "9\n",
      "10\n"
     ]
    }
   ],
   "source": [
    "#Program on while loop\n",
    "\n",
    "b=1\n",
    "while b<=10:\n",
    "    print(b)\n",
    "    b+=1\n"
   ]
  },
  {
   "cell_type": "code",
   "execution_count": 2,
   "metadata": {},
   "outputs": [
    {
     "name": "stdout",
     "output_type": "stream",
     "text": [
      "Hello world...!\n",
      "Hello world...!\n",
      "Hello world...!\n",
      "Hello world...!\n",
      "Hello world...!\n"
     ]
    }
   ],
   "source": [
    "#Program on  while loop\n",
    "\n",
    "x = 0\n",
    "while x<5:\n",
    "    print(\"Hello world...!\")\n",
    "    x+=1\n"
   ]
  },
  {
   "cell_type": "markdown",
   "metadata": {},
   "source": [
    "## If vs while"
   ]
  },
  {
   "cell_type": "code",
   "execution_count": 3,
   "metadata": {},
   "outputs": [
    {
     "name": "stdout",
     "output_type": "stream",
     "text": [
      "Hello world.\n"
     ]
    }
   ],
   "source": [
    "x=0\n",
    "if x < 5:\n",
    "    print('Hello world.')\n",
    "    x = x + 1\n"
   ]
  },
  {
   "cell_type": "code",
   "execution_count": 4,
   "metadata": {},
   "outputs": [
    {
     "name": "stdout",
     "output_type": "stream",
     "text": [
      "Hello world.\n",
      "Hello world.\n",
      "Hello world.\n",
      "Hello world.\n",
      "Hello world.\n"
     ]
    }
   ],
   "source": [
    "x = 0\n",
    "while x < 5:\n",
    "    print('Hello world.')\n",
    "    x = x + 1\n"
   ]
  },
  {
   "cell_type": "markdown",
   "metadata": {},
   "source": [
    "### Input Validation With While Loops"
   ]
  },
  {
   "cell_type": "code",
   "execution_count": 1,
   "metadata": {},
   "outputs": [
    {
     "name": "stdout",
     "output_type": "stream",
     "text": [
      "\n",
      "Please type ur name.\n",
      "jay\n",
      "\n",
      "Please type ur name.\n",
      "unless i enter\n",
      "\n",
      "Please type ur name.\n",
      "mrityunjay here\n",
      "\n",
      "Please type ur name.\n",
      "it wont stop\n",
      "\n",
      "Please type ur name.\n",
      "mrityunjay\n",
      "Thank you \n"
     ]
    }
   ],
   "source": [
    "#case1:typing different name \n",
    "name= ' '   \n",
    "while(name.lower()  != 'mrityunjay'):\n",
    "    print(\"\\nPlease type ur name.\")\n",
    "    name=input()\n",
    "print(\"Thank you \")\n"
   ]
  },
  {
   "cell_type": "code",
   "execution_count": 2,
   "metadata": {},
   "outputs": [
    {
     "name": "stdout",
     "output_type": "stream",
     "text": [
      "Please type ur name.\n",
      "\n",
      "Please type ur name.\n",
      "\n",
      "Please type ur name.\n",
      "\n",
      "Please type ur name.\n",
      "\n",
      "Please type ur name.\n",
      "\n",
      "Please type ur name.\n",
      "Mrityunjay\n",
      "Thank you \n"
     ]
    }
   ],
   "source": [
    "#case2:Entering a blank string, which is a Falsey value.\n",
    "\n",
    "name= ' '   \n",
    "while(name.lower()  != 'mrityunjay'):\n",
    "    print(\"Please type ur name.\")\n",
    "    name=input()\n",
    "print(\"Thank you \")\n"
   ]
  },
  {
   "cell_type": "markdown",
   "metadata": {},
   "source": [
    "# Program for While Loop."
   ]
  },
  {
   "cell_type": "code",
   "execution_count": 3,
   "metadata": {},
   "outputs": [
    {
     "name": "stdout",
     "output_type": "stream",
     "text": [
      "User Name: jay\n",
      "Password: 2222\n",
      "Username & Password does not matched \n",
      "Please try again\n",
      "\n",
      "\n",
      "User Name: deepak\n",
      "Password: 9090\n",
      "Username & Password does not matched \n",
      "Please try again\n",
      "\n",
      "\n",
      "User Name: pooja\n",
      "Password: 555\n",
      "Username & Password does not matched \n",
      "Please try again\n",
      "\n",
      "\n",
      "User Name: jay\n",
      "Password: 9999\n",
      "Access Granted ..... \n",
      "\n",
      " hi,jay....,! \n",
      " Welcome to Python's programming world.\n"
     ]
    }
   ],
   "source": [
    "database = [\n",
    "['deepak', '1111'], ['sneha', '2222'],\n",
    " ['rohit', '3333'], ['pooja', '5555'],\n",
    " ['ragini', '6666'], ['kishor', '0007'],\n",
    " ['teacher', '8888'], ['jay', '9999']\n",
    "]\n",
    "\n",
    "username = input('User Name: ')\n",
    "pin = input('Password: ')\n",
    "\n",
    "value=True\n",
    "while(value==True):\n",
    "    value= False\n",
    "    if([username.lower(), pin.lower()] not in database):\n",
    "        value=True\n",
    "        print(\"Username & Password does not matched \\nPlease try again\\n\\n\")\n",
    "        username = input('User Name: ')\n",
    "        pin = input('Password: ')\n",
    "        \n",
    "    else:\n",
    "        value=False\n",
    "        print('Access Granted ..... \\n\\n hi,' +username +'....,! \\n Welcome to Python\\'s programming world.')\n"
   ]
  },
  {
   "cell_type": "markdown",
   "metadata": {},
   "source": [
    "### Analyse the above and keep learning"
   ]
  }
 ],
 "metadata": {
  "kernelspec": {
   "display_name": "Python 3 (ipykernel)",
   "language": "python",
   "name": "python3"
  },
  "language_info": {
   "codemirror_mode": {
    "name": "ipython",
    "version": 3
   },
   "file_extension": ".py",
   "mimetype": "text/x-python",
   "name": "python",
   "nbconvert_exporter": "python",
   "pygments_lexer": "ipython3",
   "version": "3.9.13"
  }
 },
 "nbformat": 4,
 "nbformat_minor": 4
}
