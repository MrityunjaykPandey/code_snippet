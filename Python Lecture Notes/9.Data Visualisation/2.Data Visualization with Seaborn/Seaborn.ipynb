{
 "cells": [
  {
   "cell_type": "code",
   "execution_count": null,
   "id": "c30cfce2",
   "metadata": {},
   "outputs": [],
   "source": [
    "import numpy as np\n",
    "import pandas as pd\n",
    "import matplotlib.pyplot as plt\n",
    "import seaborn as sns\n",
    "\n",
    "import warnings\n",
    "warnings.filterwarnings(\"ignore\")"
   ]
  },
  {
   "cell_type": "code",
   "execution_count": null,
   "id": "33edc536",
   "metadata": {},
   "outputs": [],
   "source": [
    "df = pd.read_csv(\"Automobile_data.csv\")\n",
    "df.head()"
   ]
  },
  {
   "cell_type": "code",
   "execution_count": null,
   "id": "93ae7d2d",
   "metadata": {},
   "outputs": [],
   "source": [
    "df.info()"
   ]
  },
  {
   "cell_type": "markdown",
   "id": "1966f532",
   "metadata": {},
   "source": [
    "# Seaborn"
   ]
  },
  {
   "cell_type": "code",
   "execution_count": null,
   "id": "10eb435a",
   "metadata": {},
   "outputs": [],
   "source": [
    "x = np.arange(10)\n",
    "y = np.sqrt(x)"
   ]
  },
  {
   "cell_type": "code",
   "execution_count": null,
   "id": "43b6d20a",
   "metadata": {},
   "outputs": [],
   "source": [
    "sns.lineplot(x,y)\n",
    "plt.grid(True)\n",
    "plt.show()"
   ]
  },
  {
   "cell_type": "code",
   "execution_count": null,
   "id": "a866a6f9",
   "metadata": {},
   "outputs": [],
   "source": [
    "sns.distplot(df['price'])"
   ]
  },
  {
   "cell_type": "code",
   "execution_count": null,
   "id": "5bad0fbf",
   "metadata": {},
   "outputs": [],
   "source": [
    "mwidth = df['width'].mean()\n",
    "dwidth = df['width'].median()\n",
    "\n",
    "sns.distplot(df['width'])\n",
    "plt.axvline(mwidth, color=\"red\")\n",
    "plt.axvline(dwidth, color=\"yellow\")\n",
    "plt.grid(True)"
   ]
  },
  {
   "cell_type": "code",
   "execution_count": null,
   "id": "052fc73e",
   "metadata": {},
   "outputs": [],
   "source": [
    "df[\"body-style\"].value_counts().plot(kind=\"bar\")"
   ]
  },
  {
   "cell_type": "code",
   "execution_count": null,
   "id": "bd3b8a5a",
   "metadata": {},
   "outputs": [],
   "source": [
    "sns.countplot(data=df, x=\"body-style\")\n",
    "plt.grid(True)"
   ]
  },
  {
   "cell_type": "code",
   "execution_count": null,
   "id": "0665107b",
   "metadata": {},
   "outputs": [],
   "source": [
    "plt.figure(figsize=(12,8))\n",
    "sns.countplot(data=df, y=\"make\")\n",
    "plt.grid(True)"
   ]
  },
  {
   "cell_type": "code",
   "execution_count": null,
   "id": "85baa851",
   "metadata": {},
   "outputs": [],
   "source": [
    "sns.countplot(data=df, x=\"fuel-type\")\n",
    "plt.grid(True)"
   ]
  },
  {
   "cell_type": "code",
   "execution_count": null,
   "id": "b56156aa",
   "metadata": {},
   "outputs": [],
   "source": [
    "plt.figure(figsize=(8,8))\n",
    "sns.countplot(data=df, x=\"body-style\", hue=\"fuel-type\")\n",
    "plt.grid(True)"
   ]
  },
  {
   "cell_type": "code",
   "execution_count": null,
   "id": "2a7f7448",
   "metadata": {},
   "outputs": [],
   "source": [
    "df.corr()"
   ]
  },
  {
   "cell_type": "code",
   "execution_count": null,
   "id": "64b9938c",
   "metadata": {},
   "outputs": [],
   "source": [
    "df.corr().style.background_gradient()"
   ]
  },
  {
   "cell_type": "code",
   "execution_count": null,
   "id": "b4178203",
   "metadata": {},
   "outputs": [],
   "source": [
    "sns.heatmap(df.corr(), annot=True, cmap=\"Blues\")"
   ]
  },
  {
   "cell_type": "code",
   "execution_count": null,
   "id": "99cc30bd",
   "metadata": {},
   "outputs": [],
   "source": [
    "sns.heatmap(df.corr(), annot=True, cmap=\"viridis\")"
   ]
  },
  {
   "cell_type": "code",
   "execution_count": null,
   "id": "889d2b42",
   "metadata": {},
   "outputs": [],
   "source": [
    "sns.scatterplot(data=df, x=\"engine-size\", y=\"price\")"
   ]
  },
  {
   "cell_type": "code",
   "execution_count": null,
   "id": "d5bf532c",
   "metadata": {},
   "outputs": [],
   "source": [
    "sns.scatterplot(data=df, x=\"width\", y=\"price\")"
   ]
  },
  {
   "cell_type": "code",
   "execution_count": null,
   "id": "5c2722eb",
   "metadata": {},
   "outputs": [],
   "source": [
    "sns.scatterplot(data=df, x=\"highway-mpg\", y=\"price\")"
   ]
  },
  {
   "cell_type": "code",
   "execution_count": null,
   "id": "dbf49595",
   "metadata": {},
   "outputs": [],
   "source": [
    "sns.scatterplot(data=df, x=\"engine-size\", y=\"price\", hue=\"body-style\")"
   ]
  },
  {
   "cell_type": "code",
   "execution_count": null,
   "id": "ac56676d",
   "metadata": {},
   "outputs": [],
   "source": [
    "sns.scatterplot(data=df, x=\"engine-size\", y=\"price\", hue=\"fuel-type\")"
   ]
  },
  {
   "cell_type": "code",
   "execution_count": null,
   "id": "28bd37c0",
   "metadata": {},
   "outputs": [],
   "source": [
    "plt.figure(figsize=(12,8))\n",
    "sns.scatterplot(data=df, x=\"engine-size\", y=\"price\", hue=\"make\")"
   ]
  },
  {
   "cell_type": "code",
   "execution_count": null,
   "id": "7526156d",
   "metadata": {},
   "outputs": [],
   "source": [
    "sns.distplot(df['price'])"
   ]
  },
  {
   "cell_type": "code",
   "execution_count": null,
   "id": "658eb745",
   "metadata": {},
   "outputs": [],
   "source": [
    "plt.figure(figsize=(12,8))\n",
    "sns.boxplot(data=df, x=\"price\")"
   ]
  },
  {
   "cell_type": "code",
   "execution_count": null,
   "id": "1523e25b",
   "metadata": {},
   "outputs": [],
   "source": [
    "plt.figure(figsize=(12,8))\n",
    "sns.boxplot(data=df, x=\"price\", y=\"make\")"
   ]
  },
  {
   "cell_type": "code",
   "execution_count": null,
   "id": "2e024674",
   "metadata": {},
   "outputs": [],
   "source": [
    "#from numpy import random\n",
    "#sns.distplot(random.binomial(n=10, p=0.5, size=1000), hist=False, kde=True)\n",
    "#plt.show()"
   ]
  },
  {
   "cell_type": "markdown",
   "id": "3bc29570",
   "metadata": {},
   "source": [
    "# Subplots"
   ]
  },
  {
   "cell_type": "code",
   "execution_count": null,
   "id": "a6d870f3",
   "metadata": {},
   "outputs": [],
   "source": [
    "x = [1,2,3,4]\n",
    "y = [3,4,5,6]\n",
    "\n",
    "fig, axes = plt.subplots(2,2, figsize=(8,6))\n",
    "\n",
    "axes[0,0].plot(x,y)\n",
    "axes[0,1].scatter(x,y)\n",
    "axes[1,0].plot(x,y)\n",
    "axes[1,1].scatter(x,y)"
   ]
  },
  {
   "cell_type": "code",
   "execution_count": null,
   "id": "6fed6f58",
   "metadata": {},
   "outputs": [],
   "source": [
    "fig,axes = plt.subplots(2,2, figsize=(16,10))\n",
    "\n",
    "sns.distplot(df['price'], ax= axes[0,0])\n",
    "\n",
    "sns.countplot(data=df, y='make', ax= axes[0,1])\n",
    "\n",
    "sns.scatterplot(data=df, x='width', y='price', hue=\"body-style\", ax=axes[1,0])\n",
    "\n",
    "sns.boxplot(data=df, x='price' , ax=axes[1,1])\n",
    "\n",
    "plt.show()"
   ]
  }
 ],
 "metadata": {
  "kernelspec": {
   "display_name": "Python 3 (ipykernel)",
   "language": "python",
   "name": "python3"
  },
  "language_info": {
   "codemirror_mode": {
    "name": "ipython",
    "version": 3
   },
   "file_extension": ".py",
   "mimetype": "text/x-python",
   "name": "python",
   "nbconvert_exporter": "python",
   "pygments_lexer": "ipython3",
   "version": "3.9.13"
  }
 },
 "nbformat": 4,
 "nbformat_minor": 5
}
