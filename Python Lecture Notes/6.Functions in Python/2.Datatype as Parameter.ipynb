{
 "cells": [
  {
   "cell_type": "markdown",
   "metadata": {},
   "source": [
    "# Datatype as a parameter"
   ]
  },
  {
   "cell_type": "code",
   "execution_count": 1,
   "metadata": {},
   "outputs": [],
   "source": [
    "def grocerylist(*food):\n",
    "    return food\n"
   ]
  },
  {
   "cell_type": "code",
   "execution_count": 2,
   "metadata": {},
   "outputs": [
    {
     "data": {
      "text/plain": [
       "('apple', 'bananas', 'vegies', 'and', ' other', ' stuffs')"
      ]
     },
     "execution_count": 2,
     "metadata": {},
     "output_type": "execute_result"
    }
   ],
   "source": [
    "grocerylist(\"apple\",\"bananas\",\"vegies\",\"and\",\" other\",\" stuffs\")"
   ]
  },
  {
   "cell_type": "code",
   "execution_count": 3,
   "metadata": {},
   "outputs": [],
   "source": [
    "def cart(**items):\n",
    "    return items\n"
   ]
  },
  {
   "cell_type": "code",
   "execution_count": 4,
   "metadata": {},
   "outputs": [
    {
     "data": {
      "text/plain": [
       "{'apple': 4, 'oats': 3, 'rice': 2, 'grapes': 6}"
      ]
     },
     "execution_count": 4,
     "metadata": {},
     "output_type": "execute_result"
    }
   ],
   "source": [
    "cart(apple=4,oats=3,rice=2,grapes=6)"
   ]
  },
  {
   "cell_type": "code",
   "execution_count": 5,
   "metadata": {},
   "outputs": [],
   "source": [
    "def profile(firstname,lastname,*language,**level):\n",
    "    name =firstname.title() + \" \" + lastname.title()\n",
    "    return f\"Name-: {name}\\nSKills-: {language}\\nLevel-: {level}\""
   ]
  },
  {
   "cell_type": "code",
   "execution_count": 6,
   "metadata": {},
   "outputs": [
    {
     "name": "stdout",
     "output_type": "stream",
     "text": [
      "Name-: Aryan Khanna\n",
      "SKills-: ('Python', 'R', 'SQL')\n",
      "Level-: {'Python': 'Intermidiate', 'R': 'Beginer', 'SQL': 'Intermidiate'}\n"
     ]
    }
   ],
   "source": [
    "x =profile(\"Aryan\",\"Khanna\",\"Python\",\"R\",\"SQL\",Python = \"Intermidiate\",R = \"Beginer\", SQL = \"Intermidiate\")\n",
    "print(x)"
   ]
  },
  {
   "cell_type": "code",
   "execution_count": 7,
   "metadata": {},
   "outputs": [
    {
     "name": "stdout",
     "output_type": "stream",
     "text": [
      "Name-: Aryan Khanna\n",
      "SKills-: ('Python', 'R', 'SQL')\n",
      "Level-: {'Python': 'Intermidiate', 'R': 'Beginer', 'SQL': 'Intermidiate'}\n"
     ]
    }
   ],
   "source": [
    "var1 = ('Python', 'R', 'SQL')\n",
    "var2 = {'Python': 'Intermidiate', 'R': 'Beginer', 'SQL': 'Intermidiate'}\n",
    "x = profile(\"Aryan\",\"Khanna\",*var1,**var2)\n",
    "print(x)"
   ]
  }
 ],
 "metadata": {
  "kernelspec": {
   "display_name": "Python 3 (ipykernel)",
   "language": "python",
   "name": "python3"
  },
  "language_info": {
   "codemirror_mode": {
    "name": "ipython",
    "version": 3
   },
   "file_extension": ".py",
   "mimetype": "text/x-python",
   "name": "python",
   "nbconvert_exporter": "python",
   "pygments_lexer": "ipython3",
   "version": "3.9.13"
  }
 },
 "nbformat": 4,
 "nbformat_minor": 4
}
